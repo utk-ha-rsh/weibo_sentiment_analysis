{
  "cells": [
    {
      "cell_type": "code",
      "execution_count": null,
      "metadata": {
        "colab": {
          "base_uri": "https://localhost:8080/"
        },
        "id": "YghMcrxfrXCR",
        "outputId": "4169727f-6bb5-488b-f775-40f34066749b"
      },
      "outputs": [
        {
          "output_type": "stream",
          "name": "stderr",
          "text": [
            "[nltk_data] Downloading package punkt to /root/nltk_data...\n",
            "[nltk_data]   Unzipping tokenizers/punkt.zip.\n"
          ]
        }
      ],
      "source": [
        "import jieba #importing chinese language library for data preprocessing\n",
        "import pandas as pds#importing and aliasing pandas library\n",
        "import numpy as npy #importing and aliasing numpy\n",
        "from tensorflow.keras.layers import Dense,Input,Dropout,Embedding,LSTM,Input,Bidirectional#importing important layers\n",
        "from tensorflow.keras.preprocessing.text import Tokenizer\n",
        "from tensorflow.keras.preprocessing.sequence import pad_sequences\n",
        "from tensorflow.keras.models import Model,Sequential\n",
        "from sklearn.model_selection import train_test_split\n",
        "import seaborn as sbr #importing and aliasing seaborn library\n",
        "import matplotlib.pyplot as mat #importing and aliasing matplotlib library\n",
        "import nltk #importing nltk for nlp\n",
        "import re as regular,string #importing and aliasing regular expression  library\n",
        "nltk.download('punkt');\n",
        "from tensorflow.keras.utils import plot_model #for plotting model summary\n",
        "from sklearn.metrics import roc_curve, auc,confusion_matrix, classification_report,accuracy_score #evaluation metrics\n",
        "from bs4 import BeautifulSoup #for html parser\n",
        "from sklearn.metrics import precision_score,recall_score, f1_score #evaluation metrics\n"
      ]
    },
    {
      "cell_type": "code",
      "execution_count": null,
      "metadata": {
        "colab": {
          "base_uri": "https://localhost:8080/",
          "height": 206
        },
        "id": "JZNU-0WO6aB4",
        "outputId": "caba4aa9-1bca-4bd5-ae7b-90f59a6dc933"
      },
      "outputs": [
        {
          "output_type": "execute_result",
          "data": {
            "text/plain": [
              "   label                                             review\n",
              "0      1              ﻿更博了，爆照了，帅的呀，就是越来越爱你！生快傻缺[爱你][爱你][爱你]\n",
              "1      1  @张晓鹏jonathan 土耳其的事要认真对待[哈哈]，否则直接开除。@丁丁看世界 很是细心...\n",
              "2      1  姑娘都羡慕你呢…还有招财猫高兴……//@爱在蔓延-JC:[哈哈]小学徒一枚，等着明天见您呢/...\n",
              "3      1                                         美~~~~~[爱你]\n",
              "4      1                                  梦想有多大，舞台就有多大![鼓掌]"
            ],
            "text/html": [
              "\n",
              "  <div id=\"df-0980409a-a323-4e96-abe8-4cf7c2e7a83f\" class=\"colab-df-container\">\n",
              "    <div>\n",
              "<style scoped>\n",
              "    .dataframe tbody tr th:only-of-type {\n",
              "        vertical-align: middle;\n",
              "    }\n",
              "\n",
              "    .dataframe tbody tr th {\n",
              "        vertical-align: top;\n",
              "    }\n",
              "\n",
              "    .dataframe thead th {\n",
              "        text-align: right;\n",
              "    }\n",
              "</style>\n",
              "<table border=\"1\" class=\"dataframe\">\n",
              "  <thead>\n",
              "    <tr style=\"text-align: right;\">\n",
              "      <th></th>\n",
              "      <th>label</th>\n",
              "      <th>review</th>\n",
              "    </tr>\n",
              "  </thead>\n",
              "  <tbody>\n",
              "    <tr>\n",
              "      <th>0</th>\n",
              "      <td>1</td>\n",
              "      <td>﻿更博了，爆照了，帅的呀，就是越来越爱你！生快傻缺[爱你][爱你][爱你]</td>\n",
              "    </tr>\n",
              "    <tr>\n",
              "      <th>1</th>\n",
              "      <td>1</td>\n",
              "      <td>@张晓鹏jonathan 土耳其的事要认真对待[哈哈]，否则直接开除。@丁丁看世界 很是细心...</td>\n",
              "    </tr>\n",
              "    <tr>\n",
              "      <th>2</th>\n",
              "      <td>1</td>\n",
              "      <td>姑娘都羡慕你呢…还有招财猫高兴……//@爱在蔓延-JC:[哈哈]小学徒一枚，等着明天见您呢/...</td>\n",
              "    </tr>\n",
              "    <tr>\n",
              "      <th>3</th>\n",
              "      <td>1</td>\n",
              "      <td>美~~~~~[爱你]</td>\n",
              "    </tr>\n",
              "    <tr>\n",
              "      <th>4</th>\n",
              "      <td>1</td>\n",
              "      <td>梦想有多大，舞台就有多大![鼓掌]</td>\n",
              "    </tr>\n",
              "  </tbody>\n",
              "</table>\n",
              "</div>\n",
              "    <div class=\"colab-df-buttons\">\n",
              "\n",
              "  <div class=\"colab-df-container\">\n",
              "    <button class=\"colab-df-convert\" onclick=\"convertToInteractive('df-0980409a-a323-4e96-abe8-4cf7c2e7a83f')\"\n",
              "            title=\"Convert this dataframe to an interactive table.\"\n",
              "            style=\"display:none;\">\n",
              "\n",
              "  <svg xmlns=\"http://www.w3.org/2000/svg\" height=\"24px\" viewBox=\"0 -960 960 960\">\n",
              "    <path d=\"M120-120v-720h720v720H120Zm60-500h600v-160H180v160Zm220 220h160v-160H400v160Zm0 220h160v-160H400v160ZM180-400h160v-160H180v160Zm440 0h160v-160H620v160ZM180-180h160v-160H180v160Zm440 0h160v-160H620v160Z\"/>\n",
              "  </svg>\n",
              "    </button>\n",
              "\n",
              "  <style>\n",
              "    .colab-df-container {\n",
              "      display:flex;\n",
              "      gap: 12px;\n",
              "    }\n",
              "\n",
              "    .colab-df-convert {\n",
              "      background-color: #E8F0FE;\n",
              "      border: none;\n",
              "      border-radius: 50%;\n",
              "      cursor: pointer;\n",
              "      display: none;\n",
              "      fill: #1967D2;\n",
              "      height: 32px;\n",
              "      padding: 0 0 0 0;\n",
              "      width: 32px;\n",
              "    }\n",
              "\n",
              "    .colab-df-convert:hover {\n",
              "      background-color: #E2EBFA;\n",
              "      box-shadow: 0px 1px 2px rgba(60, 64, 67, 0.3), 0px 1px 3px 1px rgba(60, 64, 67, 0.15);\n",
              "      fill: #174EA6;\n",
              "    }\n",
              "\n",
              "    .colab-df-buttons div {\n",
              "      margin-bottom: 4px;\n",
              "    }\n",
              "\n",
              "    [theme=dark] .colab-df-convert {\n",
              "      background-color: #3B4455;\n",
              "      fill: #D2E3FC;\n",
              "    }\n",
              "\n",
              "    [theme=dark] .colab-df-convert:hover {\n",
              "      background-color: #434B5C;\n",
              "      box-shadow: 0px 1px 3px 1px rgba(0, 0, 0, 0.15);\n",
              "      filter: drop-shadow(0px 1px 2px rgba(0, 0, 0, 0.3));\n",
              "      fill: #FFFFFF;\n",
              "    }\n",
              "  </style>\n",
              "\n",
              "    <script>\n",
              "      const buttonEl =\n",
              "        document.querySelector('#df-0980409a-a323-4e96-abe8-4cf7c2e7a83f button.colab-df-convert');\n",
              "      buttonEl.style.display =\n",
              "        google.colab.kernel.accessAllowed ? 'block' : 'none';\n",
              "\n",
              "      async function convertToInteractive(key) {\n",
              "        const element = document.querySelector('#df-0980409a-a323-4e96-abe8-4cf7c2e7a83f');\n",
              "        const dataTable =\n",
              "          await google.colab.kernel.invokeFunction('convertToInteractive',\n",
              "                                                    [key], {});\n",
              "        if (!dataTable) return;\n",
              "\n",
              "        const docLinkHtml = 'Like what you see? Visit the ' +\n",
              "          '<a target=\"_blank\" href=https://colab.research.google.com/notebooks/data_table.ipynb>data table notebook</a>'\n",
              "          + ' to learn more about interactive tables.';\n",
              "        element.innerHTML = '';\n",
              "        dataTable['output_type'] = 'display_data';\n",
              "        await google.colab.output.renderOutput(dataTable, element);\n",
              "        const docLink = document.createElement('div');\n",
              "        docLink.innerHTML = docLinkHtml;\n",
              "        element.appendChild(docLink);\n",
              "      }\n",
              "    </script>\n",
              "  </div>\n",
              "\n",
              "\n",
              "<div id=\"df-3d2ef384-f467-4046-b81d-960fe62eccab\">\n",
              "  <button class=\"colab-df-quickchart\" onclick=\"quickchart('df-3d2ef384-f467-4046-b81d-960fe62eccab')\"\n",
              "            title=\"Suggest charts.\"\n",
              "            style=\"display:none;\">\n",
              "\n",
              "<svg xmlns=\"http://www.w3.org/2000/svg\" height=\"24px\"viewBox=\"0 0 24 24\"\n",
              "     width=\"24px\">\n",
              "    <g>\n",
              "        <path d=\"M19 3H5c-1.1 0-2 .9-2 2v14c0 1.1.9 2 2 2h14c1.1 0 2-.9 2-2V5c0-1.1-.9-2-2-2zM9 17H7v-7h2v7zm4 0h-2V7h2v10zm4 0h-2v-4h2v4z\"/>\n",
              "    </g>\n",
              "</svg>\n",
              "  </button>\n",
              "\n",
              "<style>\n",
              "  .colab-df-quickchart {\n",
              "    background-color: #E8F0FE;\n",
              "    border: none;\n",
              "    border-radius: 50%;\n",
              "    cursor: pointer;\n",
              "    display: none;\n",
              "    fill: #1967D2;\n",
              "    height: 32px;\n",
              "    padding: 0 0 0 0;\n",
              "    width: 32px;\n",
              "  }\n",
              "\n",
              "  .colab-df-quickchart:hover {\n",
              "    background-color: #E2EBFA;\n",
              "    box-shadow: 0px 1px 2px rgba(60, 64, 67, 0.3), 0px 1px 3px 1px rgba(60, 64, 67, 0.15);\n",
              "    fill: #174EA6;\n",
              "  }\n",
              "\n",
              "  [theme=dark] .colab-df-quickchart {\n",
              "    background-color: #3B4455;\n",
              "    fill: #D2E3FC;\n",
              "  }\n",
              "\n",
              "  [theme=dark] .colab-df-quickchart:hover {\n",
              "    background-color: #434B5C;\n",
              "    box-shadow: 0px 1px 3px 1px rgba(0, 0, 0, 0.15);\n",
              "    filter: drop-shadow(0px 1px 2px rgba(0, 0, 0, 0.3));\n",
              "    fill: #FFFFFF;\n",
              "  }\n",
              "</style>\n",
              "\n",
              "  <script>\n",
              "    async function quickchart(key) {\n",
              "      const charts = await google.colab.kernel.invokeFunction(\n",
              "          'suggestCharts', [key], {});\n",
              "    }\n",
              "    (() => {\n",
              "      let quickchartButtonEl =\n",
              "        document.querySelector('#df-3d2ef384-f467-4046-b81d-960fe62eccab button');\n",
              "      quickchartButtonEl.style.display =\n",
              "        google.colab.kernel.accessAllowed ? 'block' : 'none';\n",
              "    })();\n",
              "  </script>\n",
              "</div>\n",
              "    </div>\n",
              "  </div>\n"
            ]
          },
          "metadata": {},
          "execution_count": 2
        }
      ],
      "source": [
        "dtf = pds.read_csv(\"/content/drive/MyDrive/datasetsfolder/weibo/weibo_senti_100k.csv\")#data importing\n",
        "dtf.head()"
      ]
    },
    {
      "cell_type": "code",
      "execution_count": null,
      "metadata": {
        "colab": {
          "base_uri": "https://localhost:8080/"
        },
        "id": "2-ECZntPXcPN",
        "outputId": "b6d02fbd-cedb-4fa4-a323-81bfd2af1666"
      },
      "outputs": [
        {
          "output_type": "execute_result",
          "data": {
            "text/plain": [
              "0    59995\n",
              "1    59993\n",
              "Name: label, dtype: int64"
            ]
          },
          "metadata": {},
          "execution_count": 3
        }
      ],
      "source": [
        "dtf['label'].value_counts()#displaying value counts"
      ]
    },
    {
      "cell_type": "markdown",
      "source": [
        "**Data Visualization**"
      ],
      "metadata": {
        "id": "Z131xcdGjMjb"
      }
    },
    {
      "cell_type": "code",
      "execution_count": null,
      "metadata": {
        "colab": {
          "base_uri": "https://localhost:8080/",
          "height": 410
        },
        "id": "_H9GvBaEX00s",
        "outputId": "88056d1c-a9bf-4115-9561-29a1dcbba583"
      },
      "outputs": [
        {
          "output_type": "display_data",
          "data": {
            "text/plain": [
              "<Figure size 600x400 with 1 Axes>"
            ],
            "image/png": "[encoded data removed]"
          },
          "metadata": {}
        }
      ],
      "source": [
        "mat.figure(figsize = (6,4)) #for target variable counts\n",
        "sbr.countplot(data = dtf,x = dtf['label'])\n",
        "mat.title(\"Target variable count\")\n",
        "mat.show()"
      ]
    },
    {
      "cell_type": "code",
      "source": [
        "mat.pie(dtf['label'].value_counts(),labels = dtf['label'].value_counts().index); #for pie chart creation"
      ],
      "metadata": {
        "colab": {
          "base_uri": "https://localhost:8080/",
          "height": 406
        },
        "id": "D9LSIG98Kkag",
        "outputId": "0de3df78-5a1a-46ac-923f-5d348bf633cb"
      },
      "execution_count": null,
      "outputs": [
        {
          "output_type": "display_data",
          "data": {
            "text/plain": [
              "<Figure size 640x480 with 1 Axes>"
            ],
            "image/png": "[encoded data removed]"
          },
          "metadata": {}
        }
      ]
    },
    {
      "cell_type": "markdown",
      "metadata": {
        "id": "HdSBDGbOt_f2"
      },
      "source": [
        "**Data Preprocessing**"
      ]
    },
    {
      "cell_type": "code",
      "execution_count": null,
      "metadata": {
        "id": "gzdGHYbHtZE2"
      },
      "outputs": [],
      "source": [
        "def mention_remove(t): #removes mentions\n",
        "    temp =  regular.sub(r'@\\w+', '', t) #remove @ symbols\n",
        "    temp =  regular.sub(r'#\\w+', '', temp)#remove # symbols\n",
        "    temp = \"\".join([char if char not in string.punctuation else \" \"  for char in temp])#removing punctuation symbols\n",
        "    temp = regular.sub(' +', ' ', temp)#replacing spaces with empty spaces\n",
        "    temp = regular.sub(\"[0–9]+\", \"\", temp) #converting numeric values to empty\n",
        "    return regular.sub(r'[^\\w\\s]', '', temp)"
      ]
    },
    {
      "cell_type": "code",
      "execution_count": null,
      "metadata": {
        "id": "-p6psJbqtak2"
      },
      "outputs": [],
      "source": [
        "dtf['review'] = dtf['review'].apply(mention_remove) #applying function"
      ]
    },
    {
      "cell_type": "code",
      "execution_count": null,
      "metadata": {
        "id": "4SqKYATR6gCY",
        "colab": {
          "base_uri": "https://localhost:8080/"
        },
        "outputId": "ab3de0f0-ae36-42b4-85b7-e44b7a7305b9"
      },
      "outputs": [
        {
          "output_type": "stream",
          "name": "stderr",
          "text": [
            "Building prefix dict from the default dictionary ...\n",
            "DEBUG:jieba:Building prefix dict from the default dictionary ...\n",
            "Dumping model to file cache /tmp/jieba.cache\n",
            "DEBUG:jieba:Dumping model to file cache /tmp/jieba.cache\n",
            "Loading model cost 1.950 seconds.\n",
            "DEBUG:jieba:Loading model cost 1.950 seconds.\n",
            "Prefix dict has been built successfully.\n",
            "DEBUG:jieba:Prefix dict has been built successfully.\n"
          ]
        }
      ],
      "source": [
        "c_w = lambda a : list(jieba.cut(a)) #data preprocessing using chinese corpus jieba\n",
        "dtf['reviewed_words'] = dtf['review'].apply(c_w);"
      ]
    },
    {
      "cell_type": "code",
      "execution_count": null,
      "metadata": {
        "colab": {
          "base_uri": "https://localhost:8080/",
          "height": 206
        },
        "id": "6cqigNCLW0sd",
        "outputId": "9df6942a-9626-4d98-872d-6788986a67ab"
      },
      "outputs": [
        {
          "output_type": "execute_result",
          "data": {
            "text/plain": [
              "   label                                       review  \\\n",
              "0      1               更博了爆照了帅的呀就是越来越爱你生快傻缺 爱你 爱你 爱你    \n",
              "1      1            土耳其的事要认真对待 哈哈 否则直接开除 很是细心酒店都全部OK啦   \n",
              "2      1  姑娘都羡慕你呢还有招财猫高兴 JC 哈哈 小学徒一枚等着明天见您呢 大佬范儿 书呆子    \n",
              "3      1                                        美 爱你    \n",
              "4      1                              梦想有多大舞台就有多大 鼓掌    \n",
              "\n",
              "                                      reviewed_words  \n",
              "0  [更博, 了, 爆照, 了, 帅, 的, 呀, 就是, 越来越, 爱, 你, 生快, 傻, ...  \n",
              "1  [ , 土耳其, 的, 事要, 认真对待,  , 哈哈,  , 否则, 直接, 开除,  ,...  \n",
              "2  [姑娘, 都, 羡慕, 你, 呢, 还有, 招财猫, 高兴,  , JC,  , 哈哈,  ...  \n",
              "3                                    [美,  , 爱, 你,  ]  \n",
              "4            [梦想, 有, 多, 大, 舞台, 就, 有, 多, 大,  , 鼓掌,  ]  "
            ],
            "text/html": [
              "\n",
              "  <div id=\"df-02cf8bce-87f3-4edc-b287-cc343c61dd18\" class=\"colab-df-container\">\n",
              "    <div>\n",
              "<style scoped>\n",
              "    .dataframe tbody tr th:only-of-type {\n",
              "        vertical-align: middle;\n",
              "    }\n",
              "\n",
              "    .dataframe tbody tr th {\n",
              "        vertical-align: top;\n",
              "    }\n",
              "\n",
              "    .dataframe thead th {\n",
              "        text-align: right;\n",
              "    }\n",
              "</style>\n",
              "<table border=\"1\" class=\"dataframe\">\n",
              "  <thead>\n",
              "    <tr style=\"text-align: right;\">\n",
              "      <th></th>\n",
              "      <th>label</th>\n",
              "      <th>review</th>\n",
              "      <th>reviewed_words</th>\n",
              "    </tr>\n",
              "  </thead>\n",
              "  <tbody>\n",
              "    <tr>\n",
              "      <th>0</th>\n",
              "      <td>1</td>\n",
              "      <td>更博了爆照了帅的呀就是越来越爱你生快傻缺 爱你 爱你 爱你</td>\n",
              "      <td>[更博, 了, 爆照, 了, 帅, 的, 呀, 就是, 越来越, 爱, 你, 生快, 傻, ...</td>\n",
              "    </tr>\n",
              "    <tr>\n",
              "      <th>1</th>\n",
              "      <td>1</td>\n",
              "      <td>土耳其的事要认真对待 哈哈 否则直接开除 很是细心酒店都全部OK啦</td>\n",
              "      <td>[ , 土耳其, 的, 事要, 认真对待,  , 哈哈,  , 否则, 直接, 开除,  ,...</td>\n",
              "    </tr>\n",
              "    <tr>\n",
              "      <th>2</th>\n",
              "      <td>1</td>\n",
              "      <td>姑娘都羡慕你呢还有招财猫高兴 JC 哈哈 小学徒一枚等着明天见您呢 大佬范儿 书呆子</td>\n",
              "      <td>[姑娘, 都, 羡慕, 你, 呢, 还有, 招财猫, 高兴,  , JC,  , 哈哈,  ...</td>\n",
              "    </tr>\n",
              "    <tr>\n",
              "      <th>3</th>\n",
              "      <td>1</td>\n",
              "      <td>美 爱你</td>\n",
              "      <td>[美,  , 爱, 你,  ]</td>\n",
              "    </tr>\n",
              "    <tr>\n",
              "      <th>4</th>\n",
              "      <td>1</td>\n",
              "      <td>梦想有多大舞台就有多大 鼓掌</td>\n",
              "      <td>[梦想, 有, 多, 大, 舞台, 就, 有, 多, 大,  , 鼓掌,  ]</td>\n",
              "    </tr>\n",
              "  </tbody>\n",
              "</table>\n",
              "</div>\n",
              "    <div class=\"colab-df-buttons\">\n",
              "\n",
              "  <div class=\"colab-df-container\">\n",
              "    <button class=\"colab-df-convert\" onclick=\"convertToInteractive('df-02cf8bce-87f3-4edc-b287-cc343c61dd18')\"\n",
              "            title=\"Convert this dataframe to an interactive table.\"\n",
              "            style=\"display:none;\">\n",
              "\n",
              "  <svg xmlns=\"http://www.w3.org/2000/svg\" height=\"24px\" viewBox=\"0 -960 960 960\">\n",
              "    <path d=\"M120-120v-720h720v720H120Zm60-500h600v-160H180v160Zm220 220h160v-160H400v160Zm0 220h160v-160H400v160ZM180-400h160v-160H180v160Zm440 0h160v-160H620v160ZM180-180h160v-160H180v160Zm440 0h160v-160H620v160Z\"/>\n",
              "  </svg>\n",
              "    </button>\n",
              "\n",
              "  <style>\n",
              "    .colab-df-container {\n",
              "      display:flex;\n",
              "      gap: 12px;\n",
              "    }\n",
              "\n",
              "    .colab-df-convert {\n",
              "      background-color: #E8F0FE;\n",
              "      border: none;\n",
              "      border-radius: 50%;\n",
              "      cursor: pointer;\n",
              "      display: none;\n",
              "      fill: #1967D2;\n",
              "      height: 32px;\n",
              "      padding: 0 0 0 0;\n",
              "      width: 32px;\n",
              "    }\n",
              "\n",
              "    .colab-df-convert:hover {\n",
              "      background-color: #E2EBFA;\n",
              "      box-shadow: 0px 1px 2px rgba(60, 64, 67, 0.3), 0px 1px 3px 1px rgba(60, 64, 67, 0.15);\n",
              "      fill: #174EA6;\n",
              "    }\n",
              "\n",
              "    .colab-df-buttons div {\n",
              "      margin-bottom: 4px;\n",
              "    }\n",
              "\n",
              "    [theme=dark] .colab-df-convert {\n",
              "      background-color: #3B4455;\n",
              "      fill: #D2E3FC;\n",
              "    }\n",
              "\n",
              "    [theme=dark] .colab-df-convert:hover {\n",
              "      background-color: #434B5C;\n",
              "      box-shadow: 0px 1px 3px 1px rgba(0, 0, 0, 0.15);\n",
              "      filter: drop-shadow(0px 1px 2px rgba(0, 0, 0, 0.3));\n",
              "      fill: #FFFFFF;\n",
              "    }\n",
              "  </style>\n",
              "\n",
              "    <script>\n",
              "      const buttonEl =\n",
              "        document.querySelector('#df-02cf8bce-87f3-4edc-b287-cc343c61dd18 button.colab-df-convert');\n",
              "      buttonEl.style.display =\n",
              "        google.colab.kernel.accessAllowed ? 'block' : 'none';\n",
              "\n",
              "      async function convertToInteractive(key) {\n",
              "        const element = document.querySelector('#df-02cf8bce-87f3-4edc-b287-cc343c61dd18');\n",
              "        const dataTable =\n",
              "          await google.colab.kernel.invokeFunction('convertToInteractive',\n",
              "                                                    [key], {});\n",
              "        if (!dataTable) return;\n",
              "\n",
              "        const docLinkHtml = 'Like what you see? Visit the ' +\n",
              "          '<a target=\"_blank\" href=https://colab.research.google.com/notebooks/data_table.ipynb>data table notebook</a>'\n",
              "          + ' to learn more about interactive tables.';\n",
              "        element.innerHTML = '';\n",
              "        dataTable['output_type'] = 'display_data';\n",
              "        await google.colab.output.renderOutput(dataTable, element);\n",
              "        const docLink = document.createElement('div');\n",
              "        docLink.innerHTML = docLinkHtml;\n",
              "        element.appendChild(docLink);\n",
              "      }\n",
              "    </script>\n",
              "  </div>\n",
              "\n",
              "\n",
              "<div id=\"df-b877f465-eb17-4d4a-8bfa-b341293ef383\">\n",
              "  <button class=\"colab-df-quickchart\" onclick=\"quickchart('df-b877f465-eb17-4d4a-8bfa-b341293ef383')\"\n",
              "            title=\"Suggest charts.\"\n",
              "            style=\"display:none;\">\n",
              "\n",
              "<svg xmlns=\"http://www.w3.org/2000/svg\" height=\"24px\"viewBox=\"0 0 24 24\"\n",
              "     width=\"24px\">\n",
              "    <g>\n",
              "        <path d=\"M19 3H5c-1.1 0-2 .9-2 2v14c0 1.1.9 2 2 2h14c1.1 0 2-.9 2-2V5c0-1.1-.9-2-2-2zM9 17H7v-7h2v7zm4 0h-2V7h2v10zm4 0h-2v-4h2v4z\"/>\n",
              "    </g>\n",
              "</svg>\n",
              "  </button>\n",
              "\n",
              "<style>\n",
              "  .colab-df-quickchart {\n",
              "    background-color: #E8F0FE;\n",
              "    border: none;\n",
              "    border-radius: 50%;\n",
              "    cursor: pointer;\n",
              "    display: none;\n",
              "    fill: #1967D2;\n",
              "    height: 32px;\n",
              "    padding: 0 0 0 0;\n",
              "    width: 32px;\n",
              "  }\n",
              "\n",
              "  .colab-df-quickchart:hover {\n",
              "    background-color: #E2EBFA;\n",
              "    box-shadow: 0px 1px 2px rgba(60, 64, 67, 0.3), 0px 1px 3px 1px rgba(60, 64, 67, 0.15);\n",
              "    fill: #174EA6;\n",
              "  }\n",
              "\n",
              "  [theme=dark] .colab-df-quickchart {\n",
              "    background-color: #3B4455;\n",
              "    fill: #D2E3FC;\n",
              "  }\n",
              "\n",
              "  [theme=dark] .colab-df-quickchart:hover {\n",
              "    background-color: #434B5C;\n",
              "    box-shadow: 0px 1px 3px 1px rgba(0, 0, 0, 0.15);\n",
              "    filter: drop-shadow(0px 1px 2px rgba(0, 0, 0, 0.3));\n",
              "    fill: #FFFFFF;\n",
              "  }\n",
              "</style>\n",
              "\n",
              "  <script>\n",
              "    async function quickchart(key) {\n",
              "      const charts = await google.colab.kernel.invokeFunction(\n",
              "          'suggestCharts', [key], {});\n",
              "    }\n",
              "    (() => {\n",
              "      let quickchartButtonEl =\n",
              "        document.querySelector('#df-b877f465-eb17-4d4a-8bfa-b341293ef383 button');\n",
              "      quickchartButtonEl.style.display =\n",
              "        google.colab.kernel.accessAllowed ? 'block' : 'none';\n",
              "    })();\n",
              "  </script>\n",
              "</div>\n",
              "    </div>\n",
              "  </div>\n"
            ]
          },
          "metadata": {},
          "execution_count": 9
        }
      ],
      "source": [
        "dtf.head()"
      ]
    },
    {
      "cell_type": "code",
      "execution_count": null,
      "metadata": {
        "id": "eUDQrzkw6sWw"
      },
      "outputs": [],
      "source": [
        "m_len = max([len(x) for x in dtf['reviewed_words']]) #selects the maximum length comment"
      ]
    },
    {
      "cell_type": "code",
      "execution_count": null,
      "metadata": {
        "id": "YDwLgu9X6uxP"
      },
      "outputs": [],
      "source": [
        "txt = [' '.join(x) for x in dtf['reviewed_words']] #join the words\n"
      ]
    },
    {
      "cell_type": "code",
      "execution_count": null,
      "metadata": {
        "id": "JQh49ADY6yjK"
      },
      "outputs": [],
      "source": [
        "tkz = Tokenizer(num_words=30000) #object creation\n",
        "tkz.fit_on_texts(txt) #fits the object\n",
        "sqc = tkz.texts_to_sequences(txt)"
      ]
    },
    {
      "cell_type": "code",
      "execution_count": null,
      "metadata": {
        "id": "dGALRLBJ6yeC"
      },
      "outputs": [],
      "source": [
        "padded_X = pad_sequences(sqc, maxlen=m_len, padding='pre') #finalized the padded data with equal shapes of all texts"
      ]
    },
    {
      "cell_type": "code",
      "execution_count": null,
      "metadata": {
        "id": "NBIDWwlw7C1_"
      },
      "outputs": [],
      "source": [
        "pos = [[0, 1] for _ in range(sum(dtf['label']==1))] #stores 0 labelled count\n",
        "neg = [[1, 0] for _ in range(sum(dtf['label']==0))] #stores 1 labelled count"
      ]
    },
    {
      "cell_type": "code",
      "execution_count": null,
      "metadata": {
        "id": "yDCHrHYu7GNP"
      },
      "outputs": [],
      "source": [
        "Y = npy.array(pos+ neg) #y is the sum of both 0 and 1"
      ]
    },
    {
      "cell_type": "markdown",
      "metadata": {
        "id": "FvqWGPNRCy7L"
      },
      "source": [
        "**Model Training and testing**"
      ]
    },
    {
      "cell_type": "code",
      "execution_count": null,
      "metadata": {
        "id": "R6ME0BcF7MEf"
      },
      "outputs": [],
      "source": [
        "trn_x, tst_x, trn_y, tst_y = train_test_split(padded_X, Y, test_size=0.2) #splitting in 80-20"
      ]
    },
    {
      "cell_type": "code",
      "execution_count": null,
      "metadata": {
        "id": "tPwchu6H6W_B"
      },
      "outputs": [],
      "source": [
        "emb_dims = 128 #embedding layers dimensions"
      ]
    },
    {
      "cell_type": "markdown",
      "source": [
        "**Bi lstm model**"
      ],
      "metadata": {
        "id": "EyO9QT29ly3Q"
      }
    },
    {
      "cell_type": "code",
      "source": [
        "model = Sequential([#model creation using keras.models.sequential method\n",
        "    Embedding(input_dim=30000, output_dim=emb_dims, input_length=m_len), #embedding layer\n",
        "    Bidirectional(LSTM(64)), #bi lstm layer\n",
        "    Dense(128, activation='relu'), #dense layer\n",
        "    Dropout(0.5),#dropout layer as 0.5\n",
        "    Dense(2, activation='softmax') #dense layer using probability as softmax\n",
        "])\n",
        "model.compile(optimizer='adam', loss='categorical_crossentropy', metrics=['accuracy'])#model compiling\n",
        "model.summary()"
      ],
      "metadata": {
        "colab": {
          "base_uri": "https://localhost:8080/"
        },
        "id": "GtOt7D_LPqiA",
        "outputId": "074c11df-9fd1-4260-f7f1-2ffad48a431e"
      },
      "execution_count": null,
      "outputs": [
        {
          "output_type": "stream",
          "name": "stdout",
          "text": [
            "Model: \"sequential\"\n",
            "_________________________________________________________________\n",
            " Layer (type)                Output Shape              Param #   \n",
            "=================================================================\n",
            " embedding (Embedding)       (None, 137, 128)          3840000   \n",
            "                                                                 \n",
            " bidirectional (Bidirectiona  (None, 128)              98816     \n",
            " l)                                                              \n",
            "                                                                 \n",
            " dense (Dense)               (None, 128)               16512     \n",
            "                                                                 \n",
            " dropout (Dropout)           (None, 128)               0         \n",
            "                                                                 \n",
            " dense_1 (Dense)             (None, 2)                 258       \n",
            "                                                                 \n",
            "=================================================================\n",
            "Total params: 3,955,586\n",
            "Trainable params: 3,955,586\n",
            "Non-trainable params: 0\n",
            "_________________________________________________________________\n"
          ]
        }
      ]
    },
    {
      "cell_type": "code",
      "source": [
        "model.fit(trn_x, trn_y,batch_size=128,epochs=5,validation_data=(tst_x, tst_y)) #model fitting"
      ],
      "metadata": {
        "colab": {
          "base_uri": "https://localhost:8080/"
        },
        "id": "RqN8OAS8Qchg",
        "outputId": "4788762b-7fb3-460f-c38d-c8f3ce083fa7"
      },
      "execution_count": null,
      "outputs": [
        {
          "output_type": "stream",
          "name": "stdout",
          "text": [
            "Epoch 1/5\n",
            "750/750 [==============================] - 453s 598ms/step - loss: 0.1102 - accuracy: 0.9670 - val_loss: 0.0642 - val_accuracy: 0.9822\n",
            "Epoch 2/5\n",
            "750/750 [==============================] - 460s 613ms/step - loss: 0.0498 - accuracy: 0.9816 - val_loss: 0.0543 - val_accuracy: 0.9810\n",
            "Epoch 3/5\n",
            "750/750 [==============================] - 447s 595ms/step - loss: 0.0433 - accuracy: 0.9811 - val_loss: 0.0547 - val_accuracy: 0.9825\n",
            "Epoch 4/5\n",
            "750/750 [==============================] - 457s 609ms/step - loss: 0.0386 - accuracy: 0.9812 - val_loss: 0.0626 - val_accuracy: 0.9803\n",
            "Epoch 5/5\n",
            "750/750 [==============================] - 460s 613ms/step - loss: 0.0343 - accuracy: 0.9816 - val_loss: 0.0775 - val_accuracy: 0.9822\n"
          ]
        },
        {
          "output_type": "execute_result",
          "data": {
            "text/plain": [
              "<keras.callbacks.History at 0x7d1fe08ddf00>"
            ]
          },
          "metadata": {},
          "execution_count": 19
        }
      ]
    },
    {
      "cell_type": "code",
      "execution_count": null,
      "metadata": {
        "id": "YsHBKmed7Rgv"
      },
      "outputs": [],
      "source": [
        "model.compile(loss='binary_crossentropy', optimizer='adam', metrics=['acc']) # proposed model compiled"
      ]
    },
    {
      "cell_type": "code",
      "execution_count": null,
      "metadata": {
        "id": "Z6lVDckZZg4D",
        "colab": {
          "base_uri": "https://localhost:8080/"
        },
        "outputId": "119dc0c1-93cf-4651-df33-86281b61c49d"
      },
      "outputs": [
        {
          "output_type": "execute_result",
          "data": {
            "image/jpeg": "[encoded data removed]",
            "text/plain": [
              "<IPython.core.display.Image object>"
            ]
          },
          "metadata": {},
          "execution_count": 21
        }
      ],
      "source": [
        "plot_model(model,to_file = 'proposed_model.jpg',show_shapes = True,show_layer_names = True)  #plot model summary"
      ]
    },
    {
      "cell_type": "markdown",
      "metadata": {
        "id": "EW7E89e6DbPC"
      },
      "source": [
        "**Training data results**"
      ]
    },
    {
      "cell_type": "code",
      "execution_count": null,
      "metadata": {
        "colab": {
          "base_uri": "https://localhost:8080/"
        },
        "id": "WECM7u_8DbFD",
        "outputId": "6ab5611c-9368-43e0-e616-1a99360660b7"
      },
      "outputs": [
        {
          "output_type": "stream",
          "name": "stdout",
          "text": [
            "3000/3000 [==============================] - 133s 44ms/step\n"
          ]
        }
      ],
      "source": [
        "trn_y_p_p = model.predict(trn_x) #predicting on training data\n",
        "trn_y_pred = (trn_y_p_p >= 0.5).astype(int) #converting float probabilities to 0/1 integer values"
      ]
    },
    {
      "cell_type": "code",
      "execution_count": null,
      "metadata": {
        "id": "e3N26iQXfdaI"
      },
      "outputs": [],
      "source": [
        "trn_y_pr_lbl = npy.argmax(trn_y_pred, axis=1)\n",
        "trn_y_true_labels = npy.argmax(trn_y, axis=1)\n",
        "trn_acc = accuracy_score(trn_y_true_labels, trn_y_pr_lbl)"
      ]
    },
    {
      "cell_type": "code",
      "execution_count": null,
      "metadata": {
        "id": "u-1YXTkgfCZ9",
        "colab": {
          "base_uri": "https://localhost:8080/"
        },
        "outputId": "d13325fd-575d-4f72-cf99-61af5ddb516f"
      },
      "outputs": [
        {
          "output_type": "stream",
          "name": "stdout",
          "text": [
            "Training accuracy  0.982060631315762\n",
            "Training precision_score  0.9999784264233167\n",
            "Training recall_score  0.9642002787427454\n",
            "Training f1_score  0.9817634973418338\n"
          ]
        }
      ],
      "source": [
        "print(\"Training accuracy \",trn_acc)#Training accuracy\n",
        "print(\"Training precision_score \",precision_score(trn_y_true_labels, trn_y_pr_lbl))#Training precision_score\n",
        "print(\"Training recall_score \" ,recall_score(trn_y_true_labels, trn_y_pr_lbl))#Training recall_score\n",
        "print(\"Training f1_score \",f1_score(trn_y_true_labels, trn_y_pr_lbl))#Training f1_score"
      ]
    },
    {
      "cell_type": "code",
      "execution_count": null,
      "metadata": {
        "id": "DZuU-OOwbRNH",
        "colab": {
          "base_uri": "https://localhost:8080/"
        },
        "outputId": "8002e166-73bf-4cff-dc59-8bc4861a3eee"
      },
      "outputs": [
        {
          "output_type": "stream",
          "name": "stdout",
          "text": [
            "              precision    recall  f1-score   support\n",
            "\n",
            "           0       0.97      1.00      0.98     47917\n",
            "           1       1.00      0.96      0.98     48073\n",
            "\n",
            "    accuracy                           0.98     95990\n",
            "   macro avg       0.98      0.98      0.98     95990\n",
            "weighted avg       0.98      0.98      0.98     95990\n",
            "\n"
          ]
        }
      ],
      "source": [
        "# Generate the classification report\n",
        "class_report = classification_report(trn_y_true_labels, trn_y_pr_lbl)#classification report training data\n",
        "print(class_report )"
      ]
    },
    {
      "cell_type": "code",
      "execution_count": null,
      "metadata": {
        "id": "NN5KEbEeRiSX",
        "colab": {
          "base_uri": "https://localhost:8080/"
        },
        "outputId": "6c7afe1b-6230-4910-f0f2-47631d2b6e63"
      },
      "outputs": [
        {
          "output_type": "execute_result",
          "data": {
            "text/plain": [
              "<Axes: >"
            ]
          },
          "metadata": {},
          "execution_count": 26
        },
        {
          "output_type": "display_data",
          "data": {
            "text/plain": [
              "<Figure size 640x480 with 2 Axes>"
            ],
            "image/png": "[encoded data removed]"
          },
          "metadata": {}
        }
      ],
      "source": [
        "trn_c_mat = confusion_matrix(trn_y_true_labels, trn_y_pr_lbl)#training confusion matrix\n",
        "sbr.heatmap(trn_c_mat ,annot=True )#training heatmap"
      ]
    },
    {
      "cell_type": "code",
      "execution_count": null,
      "metadata": {
        "id": "c1B81xn7bWe2",
        "colab": {
          "base_uri": "https://localhost:8080/"
        },
        "outputId": "e5705035-c6b2-4492-c7e4-19cf241efc95"
      },
      "outputs": [
        {
          "output_type": "display_data",
          "data": {
            "text/plain": [
              "<Figure size 600x400 with 1 Axes>"
            ],
            "image/png": "[encoded data removed]"
          },
          "metadata": {}
        }
      ],
      "source": [
        "#roc curve for training data\n",
        "y_true = tst_y.flatten()\n",
        "f_p_r, t_p_r, THR = roc_curve(trn_y_true_labels, trn_y_pr_lbl)\n",
        "roc_auc = auc(f_p_r, t_p_r)\n",
        "mat.figure(figsize=(6, 4))\n",
        "mat.plot(f_p_r, t_p_r, color='darkorange', lw=2, label='ROC curve (area = %0.2f)' % roc_auc)\n",
        "mat.plot([0, 1], [0, 1], color='navy', lw=2, linestyle='--')\n",
        "mat.xlim([0.0, 1.0])\n",
        "mat.ylim([0.0, 1.05])\n",
        "mat.xlabel('FPR')\n",
        "mat.ylabel('TPR')\n",
        "mat.title('roc curve for training data')\n",
        "mat.legend(loc=\"lower right\")\n",
        "mat.show()"
      ]
    },
    {
      "cell_type": "markdown",
      "metadata": {
        "id": "OEHmG84hbcVX"
      },
      "source": [
        "**Testing data results**"
      ]
    },
    {
      "cell_type": "code",
      "execution_count": null,
      "metadata": {
        "id": "mgfeVAtubeW0",
        "colab": {
          "base_uri": "https://localhost:8080/"
        },
        "outputId": "fb2988a3-e50d-46bb-efa8-455b66238a20"
      },
      "outputs": [
        {
          "output_type": "stream",
          "name": "stdout",
          "text": [
            "750/750 [==============================] - 32s 43ms/step\n"
          ]
        }
      ],
      "source": [
        "tst_y_pred = model.predict(tst_x) #testing data prediction"
      ]
    },
    {
      "cell_type": "code",
      "execution_count": null,
      "metadata": {
        "id": "STJ2VqYsbfyV"
      },
      "outputs": [],
      "source": [
        "tst_y_pr_lbl = npy.argmax(tst_y_pred, axis=1)"
      ]
    },
    {
      "cell_type": "code",
      "execution_count": null,
      "metadata": {
        "id": "g-vlqKCzbj68"
      },
      "outputs": [],
      "source": [
        "tst_y_true_labels = npy.argmax(tst_y, axis=1)"
      ]
    },
    {
      "cell_type": "code",
      "execution_count": null,
      "metadata": {
        "id": "D5-h1aqbgsb_"
      },
      "outputs": [],
      "source": [
        "tst_acc = accuracy_score(tst_y_true_labels, tst_y_pr_lbl)#testing data accuracy"
      ]
    },
    {
      "cell_type": "code",
      "source": [
        "print(\"Test Accuracy:\", tst_acc)#testing accuracy\n",
        "print(\"Test precision:\", precision_score(tst_y_true_labels, tst_y_pr_lbl))#testing precision\n",
        "print(\"Test recall:\", recall_score(tst_y_true_labels, tst_y_pr_lbl))#testing recall\n",
        "print(\"Test f1_score:\", f1_score(tst_y_true_labels, tst_y_pr_lbl))#testing f1_score"
      ],
      "metadata": {
        "colab": {
          "base_uri": "https://localhost:8080/"
        },
        "id": "tGO45GPM8Qay",
        "outputId": "124eb65e-ec6a-40eb-d011-d69d3b9b9cee"
      },
      "execution_count": null,
      "outputs": [
        {
          "output_type": "stream",
          "name": "stdout",
          "text": [
            "Test Accuracy: 0.9821651804317026\n",
            "Test precision: 0.999739085058271\n",
            "Test recall: 0.9643456375838926\n",
            "Test f1_score: 0.9817234605858741\n"
          ]
        }
      ]
    },
    {
      "cell_type": "code",
      "execution_count": null,
      "metadata": {
        "id": "0QMp_5febqAH",
        "colab": {
          "base_uri": "https://localhost:8080/"
        },
        "outputId": "2e5eba7f-50f0-43df-edc8-4f1ff6a0580c"
      },
      "outputs": [
        {
          "output_type": "stream",
          "name": "stdout",
          "text": [
            "\n",
            "Classification Report:\n",
            "              precision    recall  f1-score   support\n",
            "\n",
            "           0       0.97      1.00      0.98     47917\n",
            "           1       1.00      0.96      0.98     48073\n",
            "\n",
            "    accuracy                           0.98     95990\n",
            "   macro avg       0.98      0.98      0.98     95990\n",
            "weighted avg       0.98      0.98      0.98     95990\n",
            "\n"
          ]
        }
      ],
      "source": [
        "print(\"\\nClassification Report:\")\n",
        "print(class_report) #classification report of testing data"
      ]
    },
    {
      "cell_type": "code",
      "execution_count": null,
      "metadata": {
        "id": "OcQKeAInbmb_",
        "colab": {
          "base_uri": "https://localhost:8080/"
        },
        "outputId": "347dee22-5f57-42e0-ae05-4166651db830"
      },
      "outputs": [
        {
          "output_type": "execute_result",
          "data": {
            "text/plain": [
              "<Axes: >"
            ]
          },
          "metadata": {},
          "execution_count": 34
        },
        {
          "output_type": "display_data",
          "data": {
            "text/plain": [
              "<Figure size 640x480 with 2 Axes>"
            ],
            "image/png": "[encoded data removed]"
          },
          "metadata": {}
        }
      ],
      "source": [
        "tst_c_mat = confusion_matrix(tst_y_true_labels, tst_y_pr_lbl) #test conf matrix\n",
        "sbr.heatmap(tst_c_mat ,annot=True )#testing heatmap\n"
      ]
    },
    {
      "cell_type": "code",
      "execution_count": null,
      "metadata": {
        "id": "FhwH3piAbuoF",
        "colab": {
          "base_uri": "https://localhost:8080/"
        },
        "outputId": "36e990b8-ed16-476b-db85-b2c6bee53c15"
      },
      "outputs": [
        {
          "output_type": "display_data",
          "data": {
            "text/plain": [
              "<Figure size 600x400 with 1 Axes>"
            ],
            "image/png": "[encoded data removed]"
          },
          "metadata": {}
        }
      ],
      "source": [
        "#roc curve for testing data\n",
        "y_true = tst_y.flatten()\n",
        "\n",
        "f_p_r, t_p_r, THR = roc_curve(tst_y_true_labels, tst_y_pr_lbl)\n",
        "\n",
        "roc_auc = auc(f_p_r, t_p_r)\n",
        "\n",
        "mat.figure(figsize=(6, 4))\n",
        "mat.plot(f_p_r, t_p_r, color='darkorange', lw=2, label='ROC curve (area = %0.2f)' % roc_auc)\n",
        "mat.plot([0, 1], [0, 1], color='navy', lw=2, linestyle='--')\n",
        "mat.xlim([0.0, 1.0])\n",
        "mat.ylim([0.0, 1.05])\n",
        "mat.xlabel('FPR')\n",
        "mat.ylabel('TPR')\n",
        "mat.title('roc curve for testing data ')\n",
        "mat.legend(loc=\"lower right\")\n",
        "mat.show()\n"
      ]
    },
    {
      "cell_type": "code",
      "source": [],
      "metadata": {
        "id": "bEPtGiLMDZwJ"
      },
      "execution_count": null,
      "outputs": []
    },
    {
      "cell_type": "code",
      "source": [],
      "metadata": {
        "id": "bF3mCNIkeXYh"
      },
      "execution_count": null,
      "outputs": []
    }
  ],
  "metadata": {
    "colab": {
      "provenance": []
    },
    "kernelspec": {
      "display_name": "Python 3",
      "name": "python3"
    },
    "language_info": {
      "name": "python"
    }
  },
  "nbformat": 4,
  "nbformat_minor": 0
}